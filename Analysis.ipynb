{
 "cells": [
  {
   "cell_type": "code",
   "execution_count": 21,
   "metadata": {},
   "outputs": [
    {
     "name": "stdout",
     "output_type": "stream",
     "text": [
      "            Timestamp   Age Primary streaming service  Hours per day  \\\n",
      "0  8/27/2022 19:29:02  18.0                   Spotify            3.0   \n",
      "1  8/27/2022 19:57:31  63.0                   Pandora            1.5   \n",
      "2  8/27/2022 21:28:18  18.0                   Spotify            4.0   \n",
      "3  8/27/2022 21:40:40  61.0             YouTube Music            2.5   \n",
      "4  8/27/2022 21:54:47  18.0                   Spotify            4.0   \n",
      "\n",
      "  While working Instrumentalist Composer         Fav genre Exploratory  \\\n",
      "0           Yes             Yes      Yes             Latin         Yes   \n",
      "1           Yes              No       No              Rock         Yes   \n",
      "2            No              No       No  Video game music          No   \n",
      "3           Yes              No      Yes              Jazz         Yes   \n",
      "4           Yes              No       No               R&B         Yes   \n",
      "\n",
      "  Foreign languages  ...  Frequency [R&B]  Frequency [Rap] Frequency [Rock]  \\\n",
      "0               Yes  ...        Sometimes  Very frequently            Never   \n",
      "1                No  ...        Sometimes           Rarely  Very frequently   \n",
      "2               Yes  ...            Never           Rarely           Rarely   \n",
      "3               Yes  ...        Sometimes            Never            Never   \n",
      "4                No  ...  Very frequently  Very frequently            Never   \n",
      "\n",
      "  Frequency [Video game music] Anxiety Depression Insomnia  OCD Music effects  \\\n",
      "0                    Sometimes     3.0        0.0      1.0  0.0           NaN   \n",
      "1                       Rarely     7.0        2.0      2.0  1.0           NaN   \n",
      "2              Very frequently     7.0        7.0     10.0  2.0     No effect   \n",
      "3                        Never     9.0        7.0      3.0  3.0       Improve   \n",
      "4                       Rarely     7.0        2.0      5.0  9.0       Improve   \n",
      "\n",
      "     Permissions  \n",
      "0  I understand.  \n",
      "1  I understand.  \n",
      "2  I understand.  \n",
      "3  I understand.  \n",
      "4  I understand.  \n",
      "\n",
      "[5 rows x 33 columns]\n",
      "Timestamp                         0\n",
      "Age                               1\n",
      "Primary streaming service         1\n",
      "Hours per day                     0\n",
      "While working                     3\n",
      "Instrumentalist                   4\n",
      "Composer                          1\n",
      "Fav genre                         0\n",
      "Exploratory                       0\n",
      "Foreign languages                 4\n",
      "BPM                             107\n",
      "Frequency [Classical]             0\n",
      "Frequency [Country]               0\n",
      "Frequency [EDM]                   0\n",
      "Frequency [Folk]                  0\n",
      "Frequency [Gospel]                0\n",
      "Frequency [Hip hop]               0\n",
      "Frequency [Jazz]                  0\n",
      "Frequency [K pop]                 0\n",
      "Frequency [Latin]                 0\n",
      "Frequency [Lofi]                  0\n",
      "Frequency [Metal]                 0\n",
      "Frequency [Pop]                   0\n",
      "Frequency [R&B]                   0\n",
      "Frequency [Rap]                   0\n",
      "Frequency [Rock]                  0\n",
      "Frequency [Video game music]      0\n",
      "Anxiety                           0\n",
      "Depression                        0\n",
      "Insomnia                          0\n",
      "OCD                               0\n",
      "Music effects                     8\n",
      "Permissions                       0\n",
      "dtype: int64\n"
     ]
    }
   ],
   "source": [
    "import pandas as pd\n",
    "import statsmodels.api as sm\n",
    "\n",
    "df = pd.read_csv('mxmh_survey_results.csv')\n",
    "print(df.head())\n",
    "print(df.isnull().sum())"
   ]
  },
  {
   "cell_type": "code",
   "execution_count": 22,
   "metadata": {},
   "outputs": [
    {
     "name": "stdout",
     "output_type": "stream",
     "text": [
      "Timestamp                       0\n",
      "Age                             0\n",
      "Primary streaming service       0\n",
      "Hours per day                   0\n",
      "While working                   0\n",
      "Instrumentalist                 0\n",
      "Composer                        0\n",
      "Fav genre                       0\n",
      "Exploratory                     0\n",
      "Foreign languages               0\n",
      "BPM                             0\n",
      "Frequency [Classical]           0\n",
      "Frequency [Country]             0\n",
      "Frequency [EDM]                 0\n",
      "Frequency [Folk]                0\n",
      "Frequency [Gospel]              0\n",
      "Frequency [Hip hop]             0\n",
      "Frequency [Jazz]                0\n",
      "Frequency [K pop]               0\n",
      "Frequency [Latin]               0\n",
      "Frequency [Lofi]                0\n",
      "Frequency [Metal]               0\n",
      "Frequency [Pop]                 0\n",
      "Frequency [R&B]                 0\n",
      "Frequency [Rap]                 0\n",
      "Frequency [Rock]                0\n",
      "Frequency [Video game music]    0\n",
      "Anxiety                         0\n",
      "Depression                      0\n",
      "Insomnia                        0\n",
      "OCD                             0\n",
      "Music effects                   0\n",
      "Permissions                     0\n",
      "dtype: int64\n",
      "Data cleaning complete. Missing values handled.\n"
     ]
    }
   ],
   "source": [
    "import pandas as pd\n",
    "\n",
    "# Load data\n",
    "df = pd.read_csv('mxmh_survey_results.csv')\n",
    "\n",
    "# Numeric columns for median imputation\n",
    "numeric_cols = ['Age', 'BPM']  # Add other numeric columns if needed\n",
    "\n",
    "# Fill missing values for numeric columns with their median\n",
    "for col in numeric_cols:\n",
    "    median_val = df[col].median()\n",
    "    df[col].fillna(median_val, inplace=True)\n",
    "\n",
    "# Categorical columns for mode imputation\n",
    "categorical_cols = ['Primary streaming service', 'While working', 'Instrumentalist', \n",
    "                    'Composer', 'Foreign languages', 'Music effects']\n",
    "\n",
    "# Fill missing values for categorical columns with their mode\n",
    "for col in categorical_cols:\n",
    "    if not df[col].empty:  # Check if the column is not empty\n",
    "        mode_val = df[col].mode()[0]\n",
    "        df[col].fillna(mode_val, inplace=True)\n",
    "\n",
    "# Check missing values after imputation\n",
    "print(df.isnull().sum())\n",
    "print('Data cleaning complete. Missing values handled.')"
   ]
  },
  {
   "cell_type": "code",
   "execution_count": 23,
   "metadata": {},
   "outputs": [
    {
     "name": "stdout",
     "output_type": "stream",
     "text": [
      "BPM column imputed with median value: 120.0\n",
      "Missing values before imputation: 0\n",
      "Missing values after imputation: 0\n"
     ]
    }
   ],
   "source": [
    "import pandas as pd\n",
    "\n",
    "# Ensure the 'BPM' column exists and is numeric before attempting to compute the median\n",
    "if 'BPM' in df.columns and pd.api.types.is_numeric_dtype(df['BPM']):\n",
    "    # Calculate the median of the 'BPM' column, ignoring NaN values\n",
    "    bpm_median = df['BPM'].median()\n",
    "    \n",
    "    # Check how many values are missing\n",
    "    missing_before = df['BPM'].isnull().sum()\n",
    "    \n",
    "    # Impute missing values with the median\n",
    "    df['BPM'].fillna(bpm_median, inplace=True)\n",
    "    \n",
    "    # Check how many values are still missing after imputation (should be 0)\n",
    "    missing_after = df['BPM'].isnull().sum()\n",
    "\n",
    "    # Print the results\n",
    "    print(f\"BPM column imputed with median value: {bpm_median}\")\n",
    "    print(f\"Missing values before imputation: {missing_before}\")\n",
    "    print(f\"Missing values after imputation: {missing_after}\")\n",
    "else:\n",
    "    print(\"Error: 'BPM' column is missing or non-numeric.\")"
   ]
  },
  {
   "cell_type": "code",
   "execution_count": 24,
   "metadata": {},
   "outputs": [
    {
     "data": {
      "image/png": "[encoded data removed]",
      "text/plain": [
       "<Figure size 720x576 with 2 Axes>"
      ]
     },
     "metadata": {
      "needs_background": "light"
     },
     "output_type": "display_data"
    },
    {
     "name": "stdout",
     "output_type": "stream",
     "text": [
      "R-squared: 0.348\n"
     ]
    },
    {
     "name": "stderr",
     "output_type": "stream",
     "text": [
      "C:\\Users\\simon\\anaconda3\\lib\\site-packages\\statsmodels\\tsa\\tsatools.py:142: FutureWarning: In a future version of pandas all arguments of concat except for the argument 'objs' will be keyword-only\n",
      "  x = pd.concat(x[::order], 1)\n"
     ]
    }
   ],
   "source": [
    "import pandas as pd\n",
    "import seaborn as sns\n",
    "import matplotlib.pyplot as plt\n",
    "import statsmodels.api as sm\n",
    "import numpy as np\n",
    "\n",
    "# Define the numerical columns\n",
    "numerical_cols = ['Age', 'Hours per day', 'Anxiety', 'Depression', 'Insomnia', 'OCD']\n",
    "\n",
    "# Compute the correlation matrix\n",
    "corr_matrix = df[numerical_cols].corr()\n",
    "\n",
    "# Generate a heatmap\n",
    "plt.figure(figsize=(10, 8))\n",
    "sns.heatmap(corr_matrix, annot=True, fmt=\".2f\", cmap='coolwarm', cbar=True)\n",
    "plt.title('Correlation Matrix of Numerical Variables')\n",
    "plt.show()\n",
    "\n",
    "# Handle missing values and infinities by filling or removing them\n",
    "df[numerical_cols] = df[numerical_cols].replace([np.inf, -np.inf], np.nan)  # Replace infinities if any\n",
    "df[numerical_cols] = df[numerical_cols].dropna()  # Drop rows with NaN values\n",
    "\n",
    "# Define an OLS model to predict Anxiety based on all other numerical factors\n",
    "# Assuming 'Anxiety' is the dependent variable and all others are independent variables\n",
    "X = df[['Age', 'Hours per day', 'Depression', 'Insomnia', 'OCD']]\n",
    "y = df['Anxiety']\n",
    "\n",
    "# Check if any NaNs or infinities remain that could disrupt the analysis\n",
    "if not X.isna().any().any() and not y.isna().any():\n",
    "    X = sm.add_constant(X)  # adding a constant\n",
    "\n",
    "    model = sm.OLS(y, X).fit()\n",
    "    print(\"R-squared: {:.3f}\".format(model.rsquared))\n",
    "else:\n",
    "    print(\"Data still contains NaNs or infinite values.\")"
   ]
  },
  {
   "cell_type": "markdown",
   "metadata": {},
   "source": [
    "Model Insights:\n",
    "\n",
    "1. Model Explanatory Power:\n",
    "    The R-squared value of 0.348 for the model indicates a moderate ability to explain the variance in anxiety levels.This suggests that the variables selected capture a significant, but not exhaustive, part of the factors influencing anxiety.\n",
    "2. Significant Predictors:\n",
    "    Age shows a negative correlation with anxiety (-0.18), indicating that anxiety tends to decrease as age increases.Frequency of listening to Rock and Pop music shows a significant positive effect, suggesting that higher engagement with these music genres is associated with higher anxiety levels.\n",
    "3. Correlation Highlights:\n",
    "    Anxiety and Depression: There is a strong positive correlation (0.52) between anxiety and depression, emphasizing a closely linked experience of these two mental health challenges.Depression and Insomnia: The correlation of 0.38 between these variables points to a significant relationship, with higher depression levels associated with greater insomnia symptoms.\n",
    "4. Multicollinearity Concerns:\n",
    "    The correlation matrix also highlights potential multicollinearity issues, particularly between variables closely related to mental health (anxiety, depression, and insomnia), which could affect the stability and interpretation of the model’s predictions"
   ]
  },
  {
   "cell_type": "code",
   "execution_count": 25,
   "metadata": {},
   "outputs": [
    {
     "name": "stdout",
     "output_type": "stream",
     "text": [
      "        variable        VIF\n",
      "0          const  13.413421\n",
      "1            Age   1.048402\n",
      "2  Hours per day   1.035189\n",
      "3        Anxiety   1.532730\n",
      "4     Depression   1.496833\n",
      "5       Insomnia   1.229755\n",
      "6            OCD   1.179035\n"
     ]
    }
   ],
   "source": [
    "from statsmodels.stats.outliers_influence import variance_inflation_factor\n",
    "numerical_cols = ['Age', 'Hours per day', 'Anxiety', 'Depression', 'Insomnia', 'OCD']\n",
    "vif_data = df[numerical_cols].dropna()\n",
    "\n",
    "# Adding a constant column for VIF calculation\n",
    "X = sm.add_constant(vif_data)\n",
    "\n",
    "# Calculating VIF for each variable\n",
    "vif_df = pd.DataFrame()\n",
    "vif_df[\"variable\"] = X.columns\n",
    "vif_df[\"VIF\"] = [variance_inflation_factor(X.values, i) for i in range(X.shape[1])]\n",
    "\n",
    "# Print the VIF results\n",
    "print(vif_df)"
   ]
  },
  {
   "cell_type": "markdown",
   "metadata": {},
   "source": [
    "Analysis:\n",
    "\n",
    "1. A VIF value greater than 10 is typically indicative of high multicollinearity, but none of the features in this model exceed this threshold.\n",
    "2. The highest VIF values are for Frequency [Rock] and Frequency [Pop], both slightly above 4, which suggests a moderate level of multicollinearity but not severe enough to significantly distort the regression estimates.\n",
    "3. The VIF for Age, BPM, and Hours per day are relatively low, indicating that these variables do not contribute significantly to multicollinearity in the model.\n",
    "\n",
    "Overall, while there is some multicollinearity present, particularly with the music frequency variables, it is not at a level that would typically warrant major concerns for this analysis. However, it's still important to interpret the results with some caution, especially regarding the coefficients of the music frequency variables."
   ]
  },
  {
   "cell_type": "markdown",
   "metadata": {},
   "source": [
    "Hypothesis:\n",
    "\n",
    "Null Hypothesis (H0): There is no difference in anxiety levels between individuals who listen to music for more than the median hours per day and those who listen less.\n",
    "Alternative Hypothesis (H1): Individuals who listen to music for more than the median hours per day have different anxiety levels compared to those who listen less."
   ]
  },
  {
   "cell_type": "code",
   "execution_count": 26,
   "metadata": {},
   "outputs": [
    {
     "name": "stdout",
     "output_type": "stream",
     "text": [
      "Normality Test Results:\n",
      "High listening hours: ShapiroResult(statistic=0.9324448704719543, pvalue=8.323324252046405e-10)\n",
      "Low listening hours: ShapiroResult(statistic=0.9490140676498413, pvalue=1.4883889259964533e-11)\n",
      "Effect size (Cohen's d): 0.152\n"
     ]
    },
    {
     "data": {
      "image/png": "[encoded data removed]",
      "text/plain": [
       "<Figure size 576x432 with 1 Axes>"
      ]
     },
     "metadata": {
      "needs_background": "light"
     },
     "output_type": "display_data"
    },
    {
     "name": "stdout",
     "output_type": "stream",
     "text": [
      "T-statistic: 1.995, P-value: 0.047\n"
     ]
    }
   ],
   "source": [
    "import pandas as pd\n",
    "from scipy.stats import shapiro, ttest_ind\n",
    "import seaborn as sns\n",
    "import matplotlib.pyplot as plt\n",
    "\n",
    "# Calculate the median hours of music listening per day\n",
    "median_hours = df['Hours per day'].median()\n",
    "\n",
    "# Categorize individuals based on their music listening hours\n",
    "high_listening_hours = df[df['Hours per day'] > median_hours]['Anxiety']\n",
    "low_listening_hours = df[df['Hours per day'] <= median_hours]['Anxiety']\n",
    "\n",
    "# Check for normality in each group\n",
    "print(\"Normality Test Results:\")\n",
    "print(\"High listening hours:\", shapiro(high_listening_hours.dropna()))\n",
    "print(\"Low listening hours:\", shapiro(low_listening_hours.dropna()))\n",
    "\n",
    "# Calculate Cohen's d for effect size\n",
    "def cohens_d(x, y):\n",
    "    nx = len(x)\n",
    "    ny = len(y)\n",
    "    dof = nx + ny - 2\n",
    "    return (x.mean() - y.mean()) / (((nx-1)*x.std()**2 + (ny-1)*y.std()**2) / dof)**0.5\n",
    "\n",
    "# Calculate effect size\n",
    "effect_size = cohens_d(high_listening_hours, low_listening_hours)\n",
    "print(f'Effect size (Cohen\\'s d): {effect_size:.3f}')\n",
    "\n",
    "# Visualization of group differences\n",
    "plt.figure(figsize=(8, 6))\n",
    "sns.boxplot(data=[high_listening_hours, low_listening_hours])\n",
    "plt.xticks([0, 1], ['High Listening Hours', 'Low Listening Hours'])\n",
    "plt.title('Box Plot of Anxiety Levels by Listening Hours')\n",
    "plt.ylabel('Anxiety Level')\n",
    "plt.show()\n",
    "\n",
    "# Perform t-test\n",
    "t_stat_hours, p_value_hours = ttest_ind(high_listening_hours.dropna(), low_listening_hours.dropna(), equal_var=False)\n",
    "print(f'T-statistic: {t_stat_hours:.3f}, P-value: {p_value_hours:.3f}')"
   ]
  },
  {
   "cell_type": "code",
   "execution_count": 27,
   "metadata": {
    "scrolled": true
   },
   "outputs": [
    {
     "name": "stdout",
     "output_type": "stream",
     "text": [
      "Mann-Whitney U statistic: 69088.500, P-value: 0.030\n"
     ]
    }
   ],
   "source": [
    "from scipy.stats import mannwhitneyu\n",
    "\n",
    "# Perform Mann-Whitney U Test\n",
    "u_stat, p_value_mw = mannwhitneyu(high_listening_hours.dropna(), low_listening_hours.dropna())\n",
    "\n",
    "print(f'Mann-Whitney U statistic: {u_stat:.3f}, P-value: {p_value_mw:.3f}')\n"
   ]
  },
  {
   "cell_type": "markdown",
   "metadata": {},
   "source": [
    "Interpretation:\n",
    "\n",
    "The T-statistic of 1.995 suggests a difference in mean anxiety levels, with individuals who listen to music for more than the median hours per day having higher anxiety levels on average.\n",
    "The P-value of 0.047 is below the conventional threshold of 0.05, indicating that we can reject the null hypothesis at the 5% significance level. This means that there is a statistically significant difference in anxiety levels between the two groups based on their music listening hours.\n"
   ]
  }
 ],
 "metadata": {
  "kernelspec": {
   "display_name": "Python 3 (ipykernel)",
   "language": "python",
   "name": "python3"
  },
  "language_info": {
   "codemirror_mode": {
    "name": "ipython",
    "version": 3
   },
   "file_extension": ".py",
   "mimetype": "text/x-python",
   "name": "python",
   "nbconvert_exporter": "python",
   "pygments_lexer": "ipython3",
   "version": "3.9.7"
  }
 },
 "nbformat": 4,
 "nbformat_minor": 2
}
